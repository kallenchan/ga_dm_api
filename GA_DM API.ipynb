{
 "cells": [
  {
   "cell_type": "code",
   "execution_count": 2,
   "metadata": {},
   "outputs": [],
   "source": [
    "import requests\n",
    "import json\n",
    "import pandas as pd"
   ]
  },
  {
   "cell_type": "code",
   "execution_count": 29,
   "metadata": {},
   "outputs": [],
   "source": [
    "# response = requests.get(\"https://aoe2.net/api/strings?game=aoe2de&language=en\")\n",
    "response=requests.get(\"https://aoe2.net/api/lobbies?game=aoe2hd&language=en\")\n",
    "# response.content.decode(\"utf-8\")\n",
    "data=pd.json_normalize(response.json())"
   ]
  },
  {
   "cell_type": "code",
   "execution_count": 42,
   "metadata": {},
   "outputs": [
    {
     "data": {
      "text/plain": [
       "Index(['match_id', 'lobby_id', 'match_uuid', 'version', 'name', 'num_players',\n",
       "       'num_slots', 'average_rating', 'cheats', 'full_tech_tree', 'ending_age',\n",
       "       'expansion', 'game_type', 'has_custom_content', 'has_password',\n",
       "       'lock_speed', 'lock_teams', 'map_size', 'map_type', 'pop', 'ranked',\n",
       "       'leaderboard_id', 'rating_type', 'resources', 'rms', 'scenario',\n",
       "       'server', 'shared_exploration', 'speed', 'starting_age',\n",
       "       'team_together', 'team_positions', 'treaty_length', 'turbo', 'victory',\n",
       "       'victory_time', 'visibility', 'opened', 'started', 'finished',\n",
       "       'players'],\n",
       "      dtype='object')"
      ]
     },
     "execution_count": 42,
     "metadata": {},
     "output_type": "execute_result"
    }
   ],
   "source": [
    "data.columns"
   ]
  },
  {
   "cell_type": "code",
   "execution_count": 52,
   "metadata": {
    "scrolled": true
   },
   "outputs": [],
   "source": [
    "data.name.str.contains??"
   ]
  },
  {
   "cell_type": "code",
   "execution_count": 60,
   "metadata": {},
   "outputs": [
    {
     "data": {
      "text/html": [
       "<div>\n",
       "<style scoped>\n",
       "    .dataframe tbody tr th:only-of-type {\n",
       "        vertical-align: middle;\n",
       "    }\n",
       "\n",
       "    .dataframe tbody tr th {\n",
       "        vertical-align: top;\n",
       "    }\n",
       "\n",
       "    .dataframe thead th {\n",
       "        text-align: right;\n",
       "    }\n",
       "</style>\n",
       "<table border=\"1\" class=\"dataframe\">\n",
       "  <thead>\n",
       "    <tr style=\"text-align: right;\">\n",
       "      <th></th>\n",
       "      <th>name</th>\n",
       "      <th>game_type</th>\n",
       "      <th>num_players</th>\n",
       "      <th>players</th>\n",
       "    </tr>\n",
       "  </thead>\n",
       "  <tbody>\n",
       "    <tr>\n",
       "      <th>31</th>\n",
       "      <td>DM GA</td>\n",
       "      <td>2</td>\n",
       "      <td>2</td>\n",
       "      <td>[{'profile_id': None, 'steam_id': None, 'name'...</td>\n",
       "    </tr>\n",
       "    <tr>\n",
       "      <th>34</th>\n",
       "      <td>jyrs234's Game</td>\n",
       "      <td>2</td>\n",
       "      <td>1</td>\n",
       "      <td>[{'profile_id': None, 'steam_id': None, 'name'...</td>\n",
       "    </tr>\n",
       "  </tbody>\n",
       "</table>\n",
       "</div>"
      ],
      "text/plain": [
       "              name  game_type  num_players  \\\n",
       "31           DM GA          2            2   \n",
       "34  jyrs234's Game          2            1   \n",
       "\n",
       "                                              players  \n",
       "31  [{'profile_id': None, 'steam_id': None, 'name'...  \n",
       "34  [{'profile_id': None, 'steam_id': None, 'name'...  "
      ]
     },
     "execution_count": 60,
     "metadata": {},
     "output_type": "execute_result"
    }
   ],
   "source": [
    "# All Deathmatch Games\n",
    "data[['name','game_type','num_players','players']][(data.game_type==2) &\n",
    "                          (data.name.str.contains(\"ga\",case=0)|\n",
    "                          data.name.str.contains(\"jabill\",case=0))]"
   ]
  },
  {
   "cell_type": "code",
   "execution_count": 8,
   "metadata": {},
   "outputs": [
    {
     "data": {
      "text/html": [
       "<div>\n",
       "<style scoped>\n",
       "    .dataframe tbody tr th:only-of-type {\n",
       "        vertical-align: middle;\n",
       "    }\n",
       "\n",
       "    .dataframe tbody tr th {\n",
       "        vertical-align: top;\n",
       "    }\n",
       "\n",
       "    .dataframe thead th {\n",
       "        text-align: right;\n",
       "    }\n",
       "</style>\n",
       "<table border=\"1\" class=\"dataframe\">\n",
       "  <thead>\n",
       "    <tr style=\"text-align: right;\">\n",
       "      <th></th>\n",
       "      <th>language</th>\n",
       "      <th>age</th>\n",
       "      <th>civ</th>\n",
       "      <th>game_type</th>\n",
       "      <th>leaderboard</th>\n",
       "      <th>map_size</th>\n",
       "      <th>map_type</th>\n",
       "      <th>rating_type</th>\n",
       "      <th>resources</th>\n",
       "      <th>speed</th>\n",
       "      <th>victory</th>\n",
       "      <th>visibility</th>\n",
       "    </tr>\n",
       "  </thead>\n",
       "  <tbody>\n",
       "    <tr>\n",
       "      <th>0</th>\n",
       "      <td>en</td>\n",
       "      <td>[{'id': 0, 'string': 'Standard'}, {'id': 2, 's...</td>\n",
       "      <td>[{'id': 0, 'string': 'Aztecs'}, {'id': 1, 'str...</td>\n",
       "      <td>[{'id': 0, 'string': 'Random Map'}, {'id': 1, ...</td>\n",
       "      <td>[{'id': 0, 'string': 'Unranked'}, {'id': 1, 's...</td>\n",
       "      <td>[{'id': 0, 'string': 'Tiny (2 player)'}, {'id'...</td>\n",
       "      <td>[{'id': 9, 'string': 'Arabia'}, {'id': 10, 'st...</td>\n",
       "      <td>[{'id': 0, 'string': 'Unranked'}, {'id': 1, 's...</td>\n",
       "      <td>[{'id': 0, 'string': 'Standard'}, {'id': 1, 's...</td>\n",
       "      <td>[{'id': 0, 'string': 'Slow'}, {'id': 1, 'strin...</td>\n",
       "      <td>[{'id': 1, 'string': 'Conquest'}, {'id': 7, 's...</td>\n",
       "      <td>[{'id': 0, 'string': 'Normal'}, {'id': 1, 'str...</td>\n",
       "    </tr>\n",
       "  </tbody>\n",
       "</table>\n",
       "</div>"
      ],
      "text/plain": [
       "  language                                                age  \\\n",
       "0       en  [{'id': 0, 'string': 'Standard'}, {'id': 2, 's...   \n",
       "\n",
       "                                                 civ  \\\n",
       "0  [{'id': 0, 'string': 'Aztecs'}, {'id': 1, 'str...   \n",
       "\n",
       "                                           game_type  \\\n",
       "0  [{'id': 0, 'string': 'Random Map'}, {'id': 1, ...   \n",
       "\n",
       "                                         leaderboard  \\\n",
       "0  [{'id': 0, 'string': 'Unranked'}, {'id': 1, 's...   \n",
       "\n",
       "                                            map_size  \\\n",
       "0  [{'id': 0, 'string': 'Tiny (2 player)'}, {'id'...   \n",
       "\n",
       "                                            map_type  \\\n",
       "0  [{'id': 9, 'string': 'Arabia'}, {'id': 10, 'st...   \n",
       "\n",
       "                                         rating_type  \\\n",
       "0  [{'id': 0, 'string': 'Unranked'}, {'id': 1, 's...   \n",
       "\n",
       "                                           resources  \\\n",
       "0  [{'id': 0, 'string': 'Standard'}, {'id': 1, 's...   \n",
       "\n",
       "                                               speed  \\\n",
       "0  [{'id': 0, 'string': 'Slow'}, {'id': 1, 'strin...   \n",
       "\n",
       "                                             victory  \\\n",
       "0  [{'id': 1, 'string': 'Conquest'}, {'id': 7, 's...   \n",
       "\n",
       "                                          visibility  \n",
       "0  [{'id': 0, 'string': 'Normal'}, {'id': 1, 'str...  "
      ]
     },
     "execution_count": 8,
     "metadata": {},
     "output_type": "execute_result"
    }
   ],
   "source": [
    "data"
   ]
  }
 ],
 "metadata": {
  "kernelspec": {
   "display_name": "Python 3",
   "language": "python",
   "name": "python3"
  },
  "language_info": {
   "codemirror_mode": {
    "name": "ipython",
    "version": 3
   },
   "file_extension": ".py",
   "mimetype": "text/x-python",
   "name": "python",
   "nbconvert_exporter": "python",
   "pygments_lexer": "ipython3",
   "version": "3.7.6"
  }
 },
 "nbformat": 4,
 "nbformat_minor": 4
}
